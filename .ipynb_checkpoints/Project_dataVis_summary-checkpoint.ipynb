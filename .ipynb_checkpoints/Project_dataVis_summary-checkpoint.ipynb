{
 "cells": [
  {
   "cell_type": "markdown",
   "metadata": {},
   "source": [
    "What is the \"name\" of the dataset? Who is the author?\n",
    ">Google Play Store by Lavanya Gupta\n",
    "\n",
    "What is the name of the place you found it?\n",
    ">Kaggle\n",
    "\n",
    "Where can we obtain it? (i.e., website URL)\n",
    ">https://www.kaggle.com/lava18/google-play-store-apps\n",
    "\n",
    "What is the license of the dataset? What are you allowed to do with it?\n",
    "> This work is licensed under the Creative Commons Attribution 3.0 Unported License. To view a copy of this license, visit http://creativecommons.org/licenses/by/3.0/. Since it is hosted on Kaggle.com, it is an open source dataset platform and we are allowed to modify it as per our requirement\n",
    "\n",
    "How big is it in file size and in number of items?\n",
    "> 10.8k(rows)*13 (columns) 1329 KB"
   ]
  },
  {
   "cell_type": "markdown",
   "metadata": {},
   "source": [
    "Why did we choose to explore this data set for Part2?\n",
    "\n",
    "This dataset stores the details of the applications on Google Play. It has 13 features for each application, that allows us to explore the various applications in depth and perform analysis out of the dataset to derive significant trends from the visualizations:\n",
    "\n",
    ">Top 15 most common app categories.\n",
    "Social, News and magazines, photography , health and fitness,communication,sports,finance,lifestyle,productivity,personalization,medical,business,tools,game,family.\n",
    "\n",
    ">Categories of top 100 apps in the google play store.\n",
    "Maps and Navigation , Entertainment , Education, books and reference ,health and fitness, sports, travel and local, shopping ,news and magazines ,personalization ,photography ,video players ,productivity ,social ,family ,tools ,communication ,game.\n",
    "\n",
    ">Correlation between the variables, reviews and install (proportional as expected) \n",
    "\n",
    ">Heat map to demonstrate the correlation factor between the features.\n",
    "\n",
    "Choosing this data set will allow us to play around and explore app statistics and generate some insightful visualizations. "
   ]
  },
  {
   "cell_type": "code",
   "execution_count": 1,
   "metadata": {},
   "outputs": [
    {
     "data": {
      "text/html": [
       "<script>jQuery(function() {if (jQuery(\"body.notebook_app\").length == 0) { jQuery(\".input_area\").toggle(); jQuery(\".prompt\").toggle();}});</script>"
      ]
     },
     "metadata": {},
     "output_type": "display_data"
    }
   ],
   "source": [
    "# HIDDEN\n",
    "import IPython.core.display as di\n",
    "\n",
    "# This line will hide code by default when the notebook is exported as HTML\n",
    "di.display_html('<script>jQuery(function() {if (jQuery(\"body.notebook_app\").length == 0) { jQuery(\".input_area\").toggle(); jQuery(\".prompt\").toggle();}});</script>', raw=True)"
   ]
  },
  {
   "cell_type": "code",
   "execution_count": 2,
   "metadata": {},
   "outputs": [],
   "source": [
    "# HIDDEN\n",
    "import pandas as pd\n",
    "import matplotlib.pyplot as plt\n",
    "import numpy as np\n",
    "import seaborn as sns\n",
    "import bqplot\n",
    "import traitlets\n",
    "import ipywidgets\n",
    "import math\n",
    "import bqplot.pyplot\n",
    "%matplotlib inline"
   ]
  },
  {
   "cell_type": "code",
   "execution_count": 3,
   "metadata": {},
   "outputs": [],
   "source": [
    "# HIDDEN\n",
    "df=pd.read_csv(\"googleplaystore.csv\")"
   ]
  },
  {
   "cell_type": "code",
   "execution_count": 4,
   "metadata": {},
   "outputs": [],
   "source": [
    "# HIDDEN\n",
    "#New dataframe without duplicates\n",
    "df1=df.drop_duplicates()"
   ]
  },
  {
   "cell_type": "code",
   "execution_count": 5,
   "metadata": {},
   "outputs": [
    {
     "name": "stderr",
     "output_type": "stream",
     "text": [
      "c:\\users\\spars\\appdata\\local\\programs\\python\\python37-32\\lib\\site-packages\\pandas\\core\\frame.py:3940: SettingWithCopyWarning: \n",
      "A value is trying to be set on a copy of a slice from a DataFrame\n",
      "\n",
      "See the caveats in the documentation: http://pandas.pydata.org/pandas-docs/stable/indexing.html#indexing-view-versus-copy\n",
      "  errors=errors)\n"
     ]
    }
   ],
   "source": [
    "# HIDDEN\n",
    "#Removing the above row\n",
    "df1.drop([10472], inplace=True)"
   ]
  },
  {
   "cell_type": "code",
   "execution_count": 6,
   "metadata": {},
   "outputs": [
    {
     "data": {
      "text/plain": [
       "(10357, 13)"
      ]
     },
     "execution_count": 6,
     "metadata": {},
     "output_type": "execute_result"
    }
   ],
   "source": [
    "# HIDDEN\n",
    "df1.shape"
   ]
  },
  {
   "cell_type": "code",
   "execution_count": 7,
   "metadata": {},
   "outputs": [],
   "source": [
    "# HIDDEN\n",
    "size_modify=[]\n",
    "for i in list(df1[\"Size\"].index):\n",
    "    if((df1[\"Size\"].loc[i])[-1]=='M'):\n",
    "        size_modify.append(float((df1[\"Size\"].loc[i])[:-1])*1024)\n",
    "    elif((df1[\"Size\"].loc[i])[-1]=='k'):\n",
    "        size_modify.append(float((df1[\"Size\"].loc[i])[:-1]))\n",
    "    else:\n",
    "        size_modify.append(np.nan)\n",
    "    "
   ]
  },
  {
   "cell_type": "code",
   "execution_count": 8,
   "metadata": {},
   "outputs": [
    {
     "name": "stderr",
     "output_type": "stream",
     "text": [
      "c:\\users\\spars\\appdata\\local\\programs\\python\\python37-32\\lib\\site-packages\\ipykernel_launcher.py:3: SettingWithCopyWarning: \n",
      "A value is trying to be set on a copy of a slice from a DataFrame.\n",
      "Try using .loc[row_indexer,col_indexer] = value instead\n",
      "\n",
      "See the caveats in the documentation: http://pandas.pydata.org/pandas-docs/stable/indexing.html#indexing-view-versus-copy\n",
      "  This is separate from the ipykernel package so we can avoid doing imports until\n"
     ]
    }
   ],
   "source": [
    "# HIDDEN\n",
    "#Size values converted to float values\n",
    "df1[\"Size\"]=size_modify"
   ]
  },
  {
   "cell_type": "code",
   "execution_count": 9,
   "metadata": {},
   "outputs": [],
   "source": [
    "# HIDDEN\n",
    "inst_modify=[]\n",
    "for i in list(df1[\"Installs\"].index):\n",
    "    if((df1[\"Installs\"].loc[i])[-1]=='+'):\n",
    "        inst_modify.append(float((df1[\"Installs\"].loc[i])[:-1].replace(',','')))\n",
    "    else:\n",
    "        inst_modify.append(float(df1[\"Installs\"].loc[i]))"
   ]
  },
  {
   "cell_type": "code",
   "execution_count": 10,
   "metadata": {},
   "outputs": [
    {
     "name": "stderr",
     "output_type": "stream",
     "text": [
      "c:\\users\\spars\\appdata\\local\\programs\\python\\python37-32\\lib\\site-packages\\ipykernel_launcher.py:3: SettingWithCopyWarning: \n",
      "A value is trying to be set on a copy of a slice from a DataFrame.\n",
      "Try using .loc[row_indexer,col_indexer] = value instead\n",
      "\n",
      "See the caveats in the documentation: http://pandas.pydata.org/pandas-docs/stable/indexing.html#indexing-view-versus-copy\n",
      "  This is separate from the ipykernel package so we can avoid doing imports until\n"
     ]
    }
   ],
   "source": [
    "# HIDDEN\n",
    "#Installs values converted to float numbers\n",
    "df1[\"Installs\"]=inst_modify"
   ]
  },
  {
   "cell_type": "code",
   "execution_count": 11,
   "metadata": {},
   "outputs": [],
   "source": [
    "# HIDDEN\n",
    "rev_modify=[]\n",
    "for i in list(df1[\"Reviews\"].index):\n",
    "    rev_modify.append(float(df1[\"Reviews\"].loc[i]))"
   ]
  },
  {
   "cell_type": "code",
   "execution_count": 12,
   "metadata": {},
   "outputs": [
    {
     "name": "stderr",
     "output_type": "stream",
     "text": [
      "c:\\users\\spars\\appdata\\local\\programs\\python\\python37-32\\lib\\site-packages\\ipykernel_launcher.py:3: SettingWithCopyWarning: \n",
      "A value is trying to be set on a copy of a slice from a DataFrame.\n",
      "Try using .loc[row_indexer,col_indexer] = value instead\n",
      "\n",
      "See the caveats in the documentation: http://pandas.pydata.org/pandas-docs/stable/indexing.html#indexing-view-versus-copy\n",
      "  This is separate from the ipykernel package so we can avoid doing imports until\n"
     ]
    }
   ],
   "source": [
    "# HIDDEN\n",
    "#Converted number of reviews from string to float\n",
    "df1[\"Reviews\"]=rev_modify"
   ]
  },
  {
   "cell_type": "code",
   "execution_count": 13,
   "metadata": {},
   "outputs": [],
   "source": [
    "# HIDDEN\n",
    "price_modify=[]\n",
    "for i in list(df1[\"Price\"].index):\n",
    "    if((df1[\"Price\"].loc[i])[0]=='$'):\n",
    "        price_modify.append(float((df1[\"Price\"].loc[i])[1:]))\n",
    "    else:\n",
    "        price_modify.append(float(df1[\"Price\"].loc[i]))"
   ]
  },
  {
   "cell_type": "code",
   "execution_count": 14,
   "metadata": {},
   "outputs": [
    {
     "name": "stderr",
     "output_type": "stream",
     "text": [
      "c:\\users\\spars\\appdata\\local\\programs\\python\\python37-32\\lib\\site-packages\\ipykernel_launcher.py:3: SettingWithCopyWarning: \n",
      "A value is trying to be set on a copy of a slice from a DataFrame.\n",
      "Try using .loc[row_indexer,col_indexer] = value instead\n",
      "\n",
      "See the caveats in the documentation: http://pandas.pydata.org/pandas-docs/stable/indexing.html#indexing-view-versus-copy\n",
      "  This is separate from the ipykernel package so we can avoid doing imports until\n"
     ]
    }
   ],
   "source": [
    "# HIDDEN\n",
    "#Remove $ sign from price\n",
    "df1[\"Price\"]=price_modify"
   ]
  },
  {
   "cell_type": "code",
   "execution_count": 15,
   "metadata": {},
   "outputs": [],
   "source": [
    "# HIDDEN\n",
    "#dict is being used to see which apps are repeated \n",
    "dict={}\n",
    "for i in list(df1.index):\n",
    "    dict[df1[\"App\"].loc[i]]=0"
   ]
  },
  {
   "cell_type": "code",
   "execution_count": 16,
   "metadata": {},
   "outputs": [],
   "source": [
    "# HIDDEN\n",
    "for i in list(df1.index):\n",
    "    dict[df1[\"App\"].loc[i]]+=1"
   ]
  },
  {
   "cell_type": "code",
   "execution_count": 17,
   "metadata": {},
   "outputs": [],
   "source": [
    "#The above table shows that there is repetion of apps, and the corresponsing repeated rows differ in values in Reviews columns,\n",
    "#Thus, the next step removes those repetitions."
   ]
  },
  {
   "cell_type": "code",
   "execution_count": 18,
   "metadata": {},
   "outputs": [],
   "source": [
    "# HIDDEN\n",
    "df2=pd.merge(df1[[\"App\", \"Reviews\"]], df1[['App','Category', 'Size', 'Rating','Installs', 'Type' ,'Price', 'Content Rating', 'Genres']].drop_duplicates(), left_index=True, right_index=True)"
   ]
  },
  {
   "cell_type": "code",
   "execution_count": 19,
   "metadata": {},
   "outputs": [],
   "source": [
    "# HIDDEN\n",
    "#Dropping one of the merge App column\n",
    "df2.drop([\"App_y\"], axis=1, inplace=True)"
   ]
  },
  {
   "cell_type": "code",
   "execution_count": 20,
   "metadata": {},
   "outputs": [],
   "source": [
    "# HIDDEN\n",
    "#Using installs and revies values to get an idea about popularity of the apps\n",
    "df2.sort_values(by=['Installs','Reviews'], ascending=False, inplace=True)"
   ]
  },
  {
   "cell_type": "code",
   "execution_count": 21,
   "metadata": {},
   "outputs": [
    {
     "data": {
      "text/plain": [
       "<matplotlib.axes._subplots.AxesSubplot at 0xd05d750>"
      ]
     },
     "execution_count": 21,
     "metadata": {},
     "output_type": "execute_result"
    },
    {
     "data": {
      "image/png": "[encoded data removed]",
      "text/plain": [
       "<Figure size 2160x1080 with 1 Axes>"
      ]
     },
     "metadata": {
      "needs_background": "light"
     },
     "output_type": "display_data"
    }
   ],
   "source": [
    "# HIDDEN\n",
    "#Most popular categories\n",
    "fig = plt.figure(figsize=(30,15))\n",
    "ax1 = fig.add_subplot(2,3,1)\n",
    "ax1.set_title('Top 15 most common app categories')\n",
    "pd.value_counts(df2[\"Category\"])[:15].plot(kind='barh')"
   ]
  },
  {
   "cell_type": "code",
   "execution_count": 22,
   "metadata": {},
   "outputs": [
    {
     "data": {
      "text/plain": [
       "<matplotlib.axes._subplots.AxesSubplot at 0xe13fa90>"
      ]
     },
     "execution_count": 22,
     "metadata": {},
     "output_type": "execute_result"
    },
    {
     "data": {
      "image/png": "[encoded data removed]",
      "text/plain": [
       "<Figure size 2160x1080 with 1 Axes>"
      ]
     },
     "metadata": {
      "needs_background": "light"
     },
     "output_type": "display_data"
    }
   ],
   "source": [
    "# HIDDEN\n",
    "#Categories of most popular apps. In this case, we are considering top 100 apps\n",
    "fig = plt.figure(figsize=(30,15))\n",
    "ax1 = fig.add_subplot(2,3,1)\n",
    "ax1.set_title('Categories of most popular apps')\n",
    "pd.value_counts(df2[\"Category\"][:99]).plot(kind='barh')"
   ]
  },
  {
   "cell_type": "code",
   "execution_count": 23,
   "metadata": {},
   "outputs": [],
   "source": [
    "#Most popular apps majorly belongs to GAME category, although majority number of apps developed falls into FAMILIY category.\n",
    "#Threfore, we are going to explore the GAME category in detail."
   ]
  },
  {
   "cell_type": "code",
   "execution_count": 24,
   "metadata": {},
   "outputs": [],
   "source": [
    "# HIDDEN\n",
    "review=list(df2[\"Reviews\"])\n",
    "installs=list(df2[\"Installs\"])"
   ]
  },
  {
   "cell_type": "code",
   "execution_count": 25,
   "metadata": {},
   "outputs": [],
   "source": [
    "# HIDDEN\n",
    "for i in range(len(review)):\n",
    "    if(review[i]<1):\n",
    "        review[i]=np.nan\n",
    "for i in range(len(installs)):\n",
    "    if(installs[i]<1):\n",
    "        installs[i]=np.nan"
   ]
  },
  {
   "cell_type": "code",
   "execution_count": 26,
   "metadata": {},
   "outputs": [],
   "source": [
    "# HIDDEN\n",
    "review=np.log10(review)\n",
    "installs=np.log10(installs)"
   ]
  },
  {
   "cell_type": "code",
   "execution_count": 27,
   "metadata": {},
   "outputs": [
    {
     "data": {
      "text/plain": [
       "<matplotlib.collections.PathCollection at 0xe1d8970>"
      ]
     },
     "execution_count": 27,
     "metadata": {},
     "output_type": "execute_result"
    },
    {
     "data": {
      "image/png": "[encoded data removed]",
      "text/plain": [
       "<Figure size 2160x720 with 1 Axes>"
      ]
     },
     "metadata": {
      "needs_background": "light"
     },
     "output_type": "display_data"
    }
   ],
   "source": [
    "# HIDDEN\n",
    "fig1 = plt.figure(figsize=(30,10))\n",
    "ax1 = fig1.add_subplot(2,3,1)\n",
    "ax1.set_title('Correlation between reviews and installs')\n",
    "plt.xlabel(\"Number of reviews\")\n",
    "plt.ylabel(\"Number of installs\")\n",
    "plt.scatter(review, installs)"
   ]
  },
  {
   "cell_type": "code",
   "execution_count": 28,
   "metadata": {},
   "outputs": [],
   "source": [
    "#The correlation seems to be somewhat proportional, and is accordance to excepted results."
   ]
  },
  {
   "cell_type": "code",
   "execution_count": 29,
   "metadata": {},
   "outputs": [
    {
     "data": {
      "image/png": "[encoded data removed]",
      "text/plain": [
       "<Figure size 720x720 with 2 Axes>"
      ]
     },
     "metadata": {
      "needs_background": "light"
     },
     "output_type": "display_data"
    }
   ],
   "source": [
    "# HIDDEN\n",
    "game_df = df2[df2['Category']=='GAME']\n",
    "fig = plt.figure(figsize=(10,10))\n",
    "sns.set(style=\"white\",font_scale=2)\n",
    "sns.heatmap(game_df.dropna()[['Rating','Reviews','Size','Installs','Price']].corr(), fmt='.2f',annot=True,linewidth=2);"
   ]
  },
  {
   "cell_type": "code",
   "execution_count": 30,
   "metadata": {},
   "outputs": [],
   "source": [
    "#The above heatmap can be used to see correlation between varaious columns labels. Only the correlation between installs and reviews\n",
    "#stands out to be significant among all."
   ]
  },
  {
   "cell_type": "code",
   "execution_count": 31,
   "metadata": {},
   "outputs": [],
   "source": [
    "# HIDDEN\n",
    "df3=game_df[game_df[\"Rating\"]>=4][[\"App_x\", \"Rating\", \"Type\", \"Content Rating\", \"Genres\"]]"
   ]
  },
  {
   "cell_type": "code",
   "execution_count": 32,
   "metadata": {},
   "outputs": [],
   "source": [
    "# HIDDEN\n",
    "grouped=df3.groupby([\"Genres\", \"Rating\"])[\"Rating\"].count()"
   ]
  },
  {
   "cell_type": "code",
   "execution_count": 33,
   "metadata": {},
   "outputs": [],
   "source": [
    "# HIDDEN\n",
    "genres=list(grouped.index.levels[0])"
   ]
  },
  {
   "cell_type": "code",
   "execution_count": 34,
   "metadata": {},
   "outputs": [],
   "source": [
    "# HIDDEN\n",
    "#Assigning index value to every genres\n",
    "dict={}\n",
    "for i in range(len(genres)):\n",
    "    dict[i]=genres[i]"
   ]
  },
  {
   "cell_type": "code",
   "execution_count": 35,
   "metadata": {},
   "outputs": [],
   "source": [
    "# HIDDEN\n",
    "arr=np.zeros((11, len(genres)))"
   ]
  },
  {
   "cell_type": "code",
   "execution_count": 36,
   "metadata": {},
   "outputs": [],
   "source": [
    "# HIDDEN\n",
    "for i in range(len(genres)):\n",
    "    temp=list(grouped[dict[i]].index)\n",
    "    for j in range(len(temp)):\n",
    "        element=grouped[dict[i]][temp[j]] \n",
    "        arr[round((temp[j]-4)*10),i]=element"
   ]
  },
  {
   "cell_type": "code",
   "execution_count": 37,
   "metadata": {},
   "outputs": [],
   "source": [
    "# HIDDEN\n",
    "arr[arr== 0] = np.nan"
   ]
  },
  {
   "cell_type": "code",
   "execution_count": 38,
   "metadata": {
    "scrolled": true
   },
   "outputs": [
    {
     "data": {
      "application/vnd.jupyter.widget-view+json": {
       "model_id": "a1c042bef460401693e785454b8a1d2e",
       "version_major": 2,
       "version_minor": 0
      },
      "text/plain": [
       "VBox(children=(Label(value=''), HBox(children=(Figure(axes=[ColorAxis(orientation='vertical', scale=ColorScale…"
      ]
     },
     "metadata": {},
     "output_type": "display_data"
    }
   ],
   "source": [
    "# HIDDEN\n",
    "#Plotting Heat Map\n",
    "col_sc = bqplot.ColorScale(scheme = \"Reds\")\n",
    "x_sc = bqplot.OrdinalScale()\n",
    "y_sc = bqplot.OrdinalScale()\n",
    "\n",
    "# create axis - for colors, x & y\n",
    "c_ax = bqplot.ColorAxis(scale = col_sc, \n",
    "                        orientation = 'vertical',\n",
    "                        side = 'right')\n",
    "x_ax = bqplot.Axis(scale = x_sc , label= \"Game category genres\" )\n",
    "y_ax = bqplot.Axis(scale = y_sc, \n",
    "                   orientation = 'vertical', label=\"Ratings from 4.0 (0) to 5.0 (10)\")\n",
    "\n",
    "mySelectedLabel = ipywidgets.Label()\n",
    "\n",
    "#Writing Linking Function\n",
    "\n",
    "def get_data_value(change):\n",
    "    i,j = heat_map.selected[0]\n",
    "    v = arr[i,j] # grab data value\n",
    "    mySelectedLabel.value = \"Total number of games = \" + str(v) # set our label\n",
    "    content=df3[(df3[\"Rating\"]==float(i/10+4)) & (df3[\"Genres\"]==dict[j])].groupby([\"Content Rating\"])[\"Content Rating\"].count()\n",
    "    bar_vert.x=list(content.index)\n",
    "    bar_vert.y=list(content)\n",
    "    bar_vert.labels=list(content.index)\n",
    "    type_app=df3[(df3[\"Rating\"]==float(i/10+4)) & (df3[\"Genres\"]==dict[j])].groupby([\"Type\"])[\"Type\"].count()\n",
    "    bar_horz.x=list(type_app.index)\n",
    "    bar_horz.y=list(type_app)\n",
    "    bar_horz.labels=list(type_app.index)\n",
    "\n",
    "# regenerating our heatmap to use in our fig canvas\n",
    "heat_map = bqplot.GridHeatMap(color = arr,\n",
    "                              scales = {'color': col_sc,\n",
    "                                        'row': y_sc,\n",
    "                                        'column': x_sc},\n",
    "                              interactions = {'click': 'select'},\n",
    "                              anchor_style = {'fill':'blue'}, \n",
    "                              selected_style = {'opacity': 1.0},\n",
    "                              unselected_style = {'opacity': 0.8})\n",
    "\n",
    "\n",
    "fig = bqplot.Figure(marks = [heat_map], \n",
    "                    axes = [c_ax, y_ax, x_ax], title=\"Total number of game apps for a particular rating and genre\")\n",
    "\n",
    "\n",
    "#Plotting bar graph for content rating\n",
    "\n",
    "x_sc1 = bqplot.OrdinalScale()\n",
    "y_sc1 = bqplot.LinearScale()\n",
    "\n",
    "x_ax1 = bqplot.Axis(scale = x_sc1, label=\"Content rating\" )\n",
    "y_ax1 = bqplot.Axis(scale = y_sc1, \n",
    "                   orientation = 'vertical', label=\"Number of apps\")\n",
    "\n",
    "bar_vert=bqplot.pyplot.bar(x=[], y=[], scales={'x': x_sc1, 'y': y_sc1}, labels=[])\n",
    "\n",
    "fig1= bqplot.Figure(marks = [bar_vert], axes = [y_ax1, x_ax1], title=\"Game apps content ratings\")\n",
    "\n",
    "\n",
    "#Plotting bar graph for paid/free type\n",
    "\n",
    "x_sc2 = bqplot.OrdinalScale()\n",
    "y_sc2 = bqplot.LinearScale()\n",
    "\n",
    "x_ax2 = bqplot.Axis(scale = x_sc2, label=\"Type (Free/Paid)\")\n",
    "y_ax2 = bqplot.Axis(scale = y_sc2, \n",
    "                   orientation = 'vertical', label= \"Number of apps\")\n",
    "\n",
    "bar_horz=bqplot.pyplot.bar(x=[], y=[], scales={'x': x_sc2, 'y': y_sc2}, labels=[])\n",
    "\n",
    "fig2= bqplot.Figure(marks = [bar_horz], axes = [y_ax2, x_ax2], title=\"Game apps types (free or paid)\")\n",
    "\n",
    "\n",
    "# Implementing observe function    \n",
    "heat_map.observe(get_data_value, 'selected')\n",
    "\n",
    "s=\"Game category genres:\"\n",
    "for i in dict:\n",
    "    s= s+ \"\\n\"+ str(i)+\":\"+ str(dict[i])\n",
    "\n",
    "ta1 = ipywidgets.Textarea(s)\n",
    "\n",
    "ipywidgets.VBox([mySelectedLabel, ipywidgets.HBox([fig , ta1]), ipywidgets.HBox([fig1, fig2])])"
   ]
  },
  {
   "cell_type": "code",
   "execution_count": null,
   "metadata": {},
   "outputs": [],
   "source": []
  },
  {
   "cell_type": "code",
   "execution_count": null,
   "metadata": {},
   "outputs": [],
   "source": []
  },
  {
   "cell_type": "code",
   "execution_count": null,
   "metadata": {},
   "outputs": [],
   "source": []
  },
  {
   "cell_type": "code",
   "execution_count": null,
   "metadata": {},
   "outputs": [],
   "source": []
  },
  {
   "cell_type": "code",
   "execution_count": null,
   "metadata": {},
   "outputs": [],
   "source": []
  },
  {
   "cell_type": "code",
   "execution_count": null,
   "metadata": {},
   "outputs": [],
   "source": []
  }
 ],
 "metadata": {
  "kernelspec": {
   "display_name": "Python 3",
   "language": "python",
   "name": "python3"
  },
  "language_info": {
   "codemirror_mode": {
    "name": "ipython",
    "version": 3
   },
   "file_extension": ".py",
   "mimetype": "text/x-python",
   "name": "python",
   "nbconvert_exporter": "python",
   "pygments_lexer": "ipython3",
   "version": "3.7.2"
  },
  "widgets": {
   "application/vnd.jupyter.widget-state+json": {
    "state": {
     "010017772747412888977e1e5dc136f5": {
      "model_module": "@jupyter-widgets/base",
      "model_module_version": "1.0.0",
      "model_name": "LayoutModel",
      "state": {}
     },
     "034a0f5b2901489a8d638ffe278084cf": {
      "model_module": "bqplot",
      "model_module_version": "^0.4.5",
      "model_name": "AxisModel",
      "state": {
       "label": "Number of apps",
       "orientation": "vertical",
       "scale": "IPY_MODEL_8de96f2a9b6c4f1b9aeefdf93b588650",
       "side": "left",
       "tick_values": {
        "type": null,
        "values": null
       }
      }
     },
     "0a2c0f6f2b8346c9b366284159d3cbb1": {
      "model_module": "bqplot",
      "model_module_version": "^0.4.5",
      "model_name": "FigureModel",
      "state": {
       "_dom_classes": [],
       "axes": [
        "IPY_MODEL_41360980b36f4a54a976e7dcfed5d9f2",
        "IPY_MODEL_d2c10b9d033c49e49d3a1e586ab5eddb",
        "IPY_MODEL_812e89a4ba6c4b858959a23338a68108"
       ],
       "layout": "IPY_MODEL_5be1b5a4c92044c4a03bc05fa3f1f1b0",
       "marks": [
        "IPY_MODEL_3e0f56d55e4a4a329b0e68dbeb833cc8"
       ],
       "scale_x": "IPY_MODEL_368973ab40204f48b1b0f18d939b2a0b",
       "scale_y": "IPY_MODEL_85823596ee3840f8b31aeb27bca9d8c0",
       "title": "Total number of game apps for a particular rating and genre"
      }
     },
     "0aad60040a8a4d8d8a3dab0a7c44895c": {
      "model_module": "bqplot",
      "model_module_version": "^0.4.5",
      "model_name": "ColorScaleModel",
      "state": {
       "_model_name": "ColorScaleModel",
       "_view_name": "ColorScale",
       "colors": [],
       "extrapolation": "constant",
       "mid": null,
       "scale_type": "linear",
       "scheme": "Reds"
      }
     },
     "0b07036b7644437aa2d9c2b07108b5c1": {
      "model_module": "bqplot",
      "model_module_version": "^0.4.5",
      "model_name": "AxisModel",
      "state": {
       "label": "Type (Free/Paid)",
       "scale": "IPY_MODEL_352ee22dea4f468180698bd831911621",
       "side": "bottom",
       "tick_values": {
        "type": null,
        "values": null
       }
      }
     },
     "0b7ec1ed4f2341d89bc3086994630aa0": {
      "model_module": "bqplot",
      "model_module_version": "^0.4.5",
      "model_name": "FigureModel",
      "state": {
       "_dom_classes": [],
       "axes": [
        "IPY_MODEL_034a0f5b2901489a8d638ffe278084cf",
        "IPY_MODEL_5cc8d8286ed2460fb38827f8d9610251"
       ],
       "layout": "IPY_MODEL_1457b1a2744f48b7bf793cdf3189cef1",
       "marks": [
        "IPY_MODEL_51e46192012f4fcc8748b34c55332e16"
       ],
       "scale_x": "IPY_MODEL_496e9ea76f2e4af7be2b0d77a201516d",
       "scale_y": "IPY_MODEL_1699b8a7a47146d8953d3862fac38a11",
       "title": "Game apps content ratings"
      }
     },
     "1246d691b07246358b1286697fd901be": {
      "model_module": "@jupyter-widgets/controls",
      "model_module_version": "1.2.0",
      "model_name": "VBoxModel",
      "state": {
       "children": [
        "IPY_MODEL_fae65477030b4a99b6facd49efed3fa6",
        "IPY_MODEL_22dd639f612f472eb8e68373f907881a",
        "IPY_MODEL_e46870d653bb4a889a473fda63a5cc08"
       ],
       "layout": "IPY_MODEL_512669ae148949f280d2fc9aa3cca221"
      }
     },
     "1266ad3188c24b0cb8f1b18820bc6bbf": {
      "model_module": "bqplot",
      "model_module_version": "^0.4.5",
      "model_name": "AxisModel",
      "state": {
       "scale": "IPY_MODEL_915b90238e3b4e72951496155a70c0af",
       "side": "bottom",
       "tick_values": {
        "type": null,
        "values": null
       }
      }
     },
     "1457b1a2744f48b7bf793cdf3189cef1": {
      "model_module": "@jupyter-widgets/base",
      "model_module_version": "1.0.0",
      "model_name": "LayoutModel",
      "state": {
       "min_width": "125px"
      }
     },
     "1699b8a7a47146d8953d3862fac38a11": {
      "model_module": "bqplot",
      "model_module_version": "^0.4.5",
      "model_name": "LinearScaleModel",
      "state": {
       "allow_padding": false,
       "max": 1,
       "min": 0,
       "stabilized": false
      }
     },
     "19e4b92644c74b7cbdd2b5f53fe5eb7f": {
      "model_module": "@jupyter-widgets/controls",
      "model_module_version": "1.2.0",
      "model_name": "DescriptionStyleModel",
      "state": {
       "description_width": ""
      }
     },
     "1f2427ddf1ba45baab1a6344a8755184": {
      "model_module": "@jupyter-widgets/controls",
      "model_module_version": "1.2.0",
      "model_name": "HBoxModel",
      "state": {
       "children": [
        "IPY_MODEL_c9cab5e72ff245d38f3d7ce6be89c869",
        "IPY_MODEL_88cb1b6bf8cc4ac6968c301670774b09"
       ],
       "layout": "IPY_MODEL_25e199399be7400aaea6bb1262967029"
      }
     },
     "1f28bb7981a24f75a42db17053dece23": {
      "model_module": "@jupyter-widgets/base",
      "model_module_version": "1.0.0",
      "model_name": "LayoutModel",
      "state": {
       "min_width": "125px"
      }
     },
     "21f60a3c7b484e3c89f3abb228867bb4": {
      "model_module": "bqplot",
      "model_module_version": "^0.4.5",
      "model_name": "AxisModel",
      "state": {
       "orientation": "vertical",
       "scale": "IPY_MODEL_5ba645429c4149e9b686ea3a11c8a17d",
       "side": "left",
       "tick_values": {
        "type": null,
        "values": null
       }
      }
     },
     "223aec8eeec34468bd105b895345e927": {
      "model_module": "bqplot",
      "model_module_version": "^0.4.5",
      "model_name": "AxisModel",
      "state": {
       "label": "Number of apps",
       "orientation": "vertical",
       "scale": "IPY_MODEL_5ba645429c4149e9b686ea3a11c8a17d",
       "side": "left",
       "tick_values": {
        "type": null,
        "values": null
       }
      }
     },
     "22dd639f612f472eb8e68373f907881a": {
      "model_module": "@jupyter-widgets/controls",
      "model_module_version": "1.2.0",
      "model_name": "HBoxModel",
      "state": {
       "children": [
        "IPY_MODEL_0a2c0f6f2b8346c9b366284159d3cbb1",
        "IPY_MODEL_60a49b2725784f9b9455ce74168c4869"
       ],
       "layout": "IPY_MODEL_37e46bc3c8504f46ad23f6560ebbb597"
      }
     },
     "23f1219b14c24b988b015a36d13643fd": {
      "model_module": "bqplot",
      "model_module_version": "^0.4.5",
      "model_name": "LinearScaleModel",
      "state": {
       "allow_padding": false,
       "max": 1,
       "min": 0,
       "stabilized": false
      }
     },
     "25e199399be7400aaea6bb1262967029": {
      "model_module": "@jupyter-widgets/base",
      "model_module_version": "1.0.0",
      "model_name": "LayoutModel",
      "state": {}
     },
     "25e63b9a714d4179840a060a85705062": {
      "model_module": "bqplot",
      "model_module_version": "^0.4.5",
      "model_name": "OrdinalScaleModel",
      "state": {
       "domain": []
      }
     },
     "2cf546412d5a471789b3469b5be06bb9": {
      "model_module": "bqplot",
      "model_module_version": "^0.4.5",
      "model_name": "LinearScaleModel",
      "state": {
       "allow_padding": false,
       "max": 1,
       "min": 0,
       "stabilized": false
      }
     },
     "2d53d88d7b314903ac721f8fed5cd2d3": {
      "model_module": "@jupyter-widgets/base",
      "model_module_version": "1.0.0",
      "model_name": "LayoutModel",
      "state": {
       "min_width": "125px"
      }
     },
     "2e523f47e5cf4f6283547a618c5d5ffd": {
      "model_module": "@jupyter-widgets/base",
      "model_module_version": "1.0.0",
      "model_name": "LayoutModel",
      "state": {}
     },
     "32280b585af34112921250d818326f21": {
      "model_module": "bqplot",
      "model_module_version": "^0.4.5",
      "model_name": "AxisModel",
      "state": {
       "label": "Type (Free/Paid)",
       "scale": "IPY_MODEL_915b90238e3b4e72951496155a70c0af",
       "side": "bottom",
       "tick_values": {
        "type": null,
        "values": null
       }
      }
     },
     "352ee22dea4f468180698bd831911621": {
      "model_module": "bqplot",
      "model_module_version": "^0.4.5",
      "model_name": "OrdinalScaleModel",
      "state": {
       "domain": []
      }
     },
     "368973ab40204f48b1b0f18d939b2a0b": {
      "model_module": "bqplot",
      "model_module_version": "^0.4.5",
      "model_name": "LinearScaleModel",
      "state": {
       "allow_padding": false,
       "max": 1,
       "min": 0,
       "stabilized": false
      }
     },
     "37e46bc3c8504f46ad23f6560ebbb597": {
      "model_module": "@jupyter-widgets/base",
      "model_module_version": "1.0.0",
      "model_name": "LayoutModel",
      "state": {}
     },
     "3e0f56d55e4a4a329b0e68dbeb833cc8": {
      "model_module": "bqplot",
      "model_module_version": "^0.4.5",
      "model_name": "GridHeatMapModel",
      "state": {
       "anchor_style": {
        "fill": "blue"
       },
       "color": {
        "type": "float",
        "values": [
         [
          20,
          null,
          6,
          null,
          7,
          2,
          5,
          2,
          null,
          null,
          null,
          null,
          null,
          2,
          null,
          7,
          null,
          null,
          null,
          null,
          null,
          3,
          null,
          1
         ],
         [
          27,
          null,
          9,
          null,
          13,
          4,
          5,
          6,
          null,
          null,
          null,
          1,
          null,
          null,
          null,
          3,
          null,
          null,
          null,
          null,
          null,
          1,
          2,
          null
         ],
         [
          39,
          null,
          4,
          null,
          19,
          2,
          3,
          2,
          1,
          null,
          null,
          null,
          1,
          2,
          2,
          17,
          3,
          null,
          null,
          null,
          null,
          2,
          5,
          4
         ],
         [
          44,
          2,
          10,
          null,
          26,
          6,
          4,
          4,
          2,
          null,
          null,
          null,
          null,
          2,
          3,
          12,
          4,
          4,
          null,
          null,
          null,
          1,
          1,
          4
         ],
         [
          45,
          null,
          13,
          null,
          21,
          3,
          3,
          6,
          7,
          null,
          1,
          null,
          null,
          1,
          2,
          8,
          2,
          null,
          null,
          null,
          1,
          4,
          3,
          2
         ],
         [
          38,
          1,
          9,
          1,
          22,
          5,
          6,
          7,
          6,
          1,
          null,
          null,
          null,
          2,
          4,
          6,
          3,
          1,
          null,
          1,
          2,
          1,
          6,
          2
         ],
         [
          27,
          null,
          4,
          null,
          13,
          4,
          4,
          2,
          7,
          null,
          null,
          null,
          null,
          2,
          6,
          5,
          1,
          3,
          null,
          null,
          3,
          5,
          1,
          1
         ],
         [
          9,
          null,
          1,
          null,
          9,
          5,
          4,
          4,
          null,
          null,
          null,
          null,
          null,
          2,
          6,
          1,
          2,
          null,
          1,
          null,
          null,
          null,
          1,
          3
         ],
         [
          null,
          null,
          null,
          null,
          4,
          2,
          null,
          null,
          null,
          null,
          null,
          null,
          null,
          null,
          null,
          null,
          null,
          1,
          null,
          null,
          null,
          null,
          1,
          1
         ],
         [
          null,
          null,
          null,
          null,
          null,
          null,
          1,
          null,
          null,
          null,
          null,
          null,
          null,
          null,
          1,
          null,
          null,
          null,
          null,
          null,
          null,
          null,
          null,
          1
         ],
         [
          1,
          null,
          null,
          null,
          8,
          null,
          null,
          null,
          null,
          null,
          null,
          null,
          null,
          null,
          null,
          2,
          null,
          null,
          null,
          null,
          null,
          null,
          1,
          null
         ]
        ]
       },
       "column": {
        "type": "float",
        "values": [
         0,
         1,
         2,
         3,
         4,
         5,
         6,
         7,
         8,
         9,
         10,
         11,
         12,
         13,
         14,
         15,
         16,
         17,
         18,
         19,
         20,
         21,
         22,
         23
        ]
       },
       "display_legend": false,
       "interactions": {
        "click": "select"
       },
       "row": {
        "type": "float",
        "values": [
         0,
         1,
         2,
         3,
         4,
         5,
         6,
         7,
         8,
         9,
         10
        ]
       },
       "scales": {
        "color": "IPY_MODEL_443e54d7eae64367b75114842b6d5267",
        "column": "IPY_MODEL_6000ab1173dc4ca698877fbcad8b7395",
        "row": "IPY_MODEL_6180eda0014a4ecca2a9495ad923669d"
       },
       "selected": [
        [
         3,
         4
        ]
       ],
       "selected_style": {
        "opacity": 1
       },
       "unselected_style": {
        "opacity": 0.8
       }
      }
     },
     "3f2fa9b71f5e42a088ae96bb0e60e6cc": {
      "model_module": "bqplot",
      "model_module_version": "^0.4.5",
      "model_name": "LinearScaleModel",
      "state": {
       "allow_padding": false,
       "max": 1,
       "min": 0,
       "stabilized": false
      }
     },
     "41360980b36f4a54a976e7dcfed5d9f2": {
      "model_module": "bqplot",
      "model_module_version": "^0.4.5",
      "model_name": "ColorAxisModel",
      "state": {
       "orientation": "vertical",
       "scale": "IPY_MODEL_443e54d7eae64367b75114842b6d5267",
       "side": "right",
       "tick_values": {
        "type": null,
        "values": null
       }
      }
     },
     "443e54d7eae64367b75114842b6d5267": {
      "model_module": "bqplot",
      "model_module_version": "^0.4.5",
      "model_name": "ColorScaleModel",
      "state": {
       "_model_name": "ColorScaleModel",
       "_view_name": "ColorScale",
       "colors": [],
       "extrapolation": "constant",
       "mid": null,
       "scale_type": "linear",
       "scheme": "Reds"
      }
     },
     "48ffb458d8914bfeb126ff667a5b6eba": {
      "model_module": "@jupyter-widgets/controls",
      "model_module_version": "1.2.0",
      "model_name": "DescriptionStyleModel",
      "state": {
       "description_width": ""
      }
     },
     "496e9ea76f2e4af7be2b0d77a201516d": {
      "model_module": "bqplot",
      "model_module_version": "^0.4.5",
      "model_name": "LinearScaleModel",
      "state": {
       "allow_padding": false,
       "max": 1,
       "min": 0,
       "stabilized": false
      }
     },
     "4c8000011fc04d58bef8353313232111": {
      "model_module": "@jupyter-widgets/base",
      "model_module_version": "1.0.0",
      "model_name": "LayoutModel",
      "state": {
       "min_width": "125px"
      }
     },
     "4d487b685027481ea1e8811e92070dcc": {
      "model_module": "bqplot",
      "model_module_version": "^0.4.5",
      "model_name": "AxisModel",
      "state": {
       "scale": "IPY_MODEL_352ee22dea4f468180698bd831911621",
       "side": "bottom",
       "tick_values": {
        "type": null,
        "values": null
       }
      }
     },
     "4d48b1ae5dca4accb9875c1a03cc67ca": {
      "model_module": "@jupyter-widgets/controls",
      "model_module_version": "1.2.0",
      "model_name": "DescriptionStyleModel",
      "state": {
       "description_width": ""
      }
     },
     "512669ae148949f280d2fc9aa3cca221": {
      "model_module": "@jupyter-widgets/base",
      "model_module_version": "1.0.0",
      "model_name": "LayoutModel",
      "state": {}
     },
     "51e46192012f4fcc8748b34c55332e16": {
      "model_module": "bqplot",
      "model_module_version": "^0.4.5",
      "model_name": "BarsModel",
      "state": {
       "color": {
        "type": null,
        "values": null
       },
       "colors": [
        "steelblue"
       ],
       "display_legend": false,
       "labels": [
        "Everyone",
        "Everyone 10+",
        "Mature 17+",
        "Teen"
       ],
       "scales": {
        "x": "IPY_MODEL_b53a4fc5cc9145509e331c3aac3d21aa",
        "y": "IPY_MODEL_8de96f2a9b6c4f1b9aeefdf93b588650"
       },
       "selected": [],
       "x": {
        "type": "<U12",
        "values": [
         "Everyone",
         "Everyone 10+",
         "Mature 17+",
         "Teen"
        ]
       },
       "y": {
        "type": "float",
        "values": [
         17,
         6,
         1,
         2
        ]
       }
      }
     },
     "597c09b2c1b649619d784fa23265f172": {
      "model_module": "bqplot",
      "model_module_version": "^0.4.5",
      "model_name": "AxisModel",
      "state": {
       "orientation": "vertical",
       "scale": "IPY_MODEL_8de96f2a9b6c4f1b9aeefdf93b588650",
       "side": "left",
       "tick_values": {
        "type": null,
        "values": null
       }
      }
     },
     "5ba645429c4149e9b686ea3a11c8a17d": {
      "model_module": "bqplot",
      "model_module_version": "^0.4.5",
      "model_name": "LinearScaleModel",
      "state": {
       "stabilized": false
      }
     },
     "5be1b5a4c92044c4a03bc05fa3f1f1b0": {
      "model_module": "@jupyter-widgets/base",
      "model_module_version": "1.0.0",
      "model_name": "LayoutModel",
      "state": {
       "min_width": "125px"
      }
     },
     "5cc8d8286ed2460fb38827f8d9610251": {
      "model_module": "bqplot",
      "model_module_version": "^0.4.5",
      "model_name": "AxisModel",
      "state": {
       "label": "Content rating",
       "scale": "IPY_MODEL_b53a4fc5cc9145509e331c3aac3d21aa",
       "side": "bottom",
       "tick_values": {
        "type": null,
        "values": null
       }
      }
     },
     "5f7ca136e4c24115a3b8394d42064048": {
      "model_module": "@jupyter-widgets/base",
      "model_module_version": "1.0.0",
      "model_name": "LayoutModel",
      "state": {
       "min_width": "125px"
      }
     },
     "6000ab1173dc4ca698877fbcad8b7395": {
      "model_module": "bqplot",
      "model_module_version": "^0.4.5",
      "model_name": "OrdinalScaleModel",
      "state": {
       "domain": []
      }
     },
     "605cb7fed46342398cd119608a5c07ef": {
      "model_module": "@jupyter-widgets/base",
      "model_module_version": "1.0.0",
      "model_name": "LayoutModel",
      "state": {}
     },
     "60a49b2725784f9b9455ce74168c4869": {
      "model_module": "@jupyter-widgets/controls",
      "model_module_version": "1.2.0",
      "model_name": "TextareaModel",
      "state": {
       "layout": "IPY_MODEL_2e523f47e5cf4f6283547a618c5d5ffd",
       "style": "IPY_MODEL_4d48b1ae5dca4accb9875c1a03cc67ca",
       "value": "Game category genres:\n0:Action\n1:Action;Action & Adventure\n2:Adventure\n3:Adventure;Action & Adventure\n4:Arcade\n5:Board\n6:Card\n7:Casino\n8:Casual\n9:Casual;Action & Adventure\n10:Casual;Brain Games\n11:Casual;Creativity\n12:Casual;Pretend Play\n13:Music\n14:Puzzle\n15:Racing\n16:Role Playing\n17:Simulation\n18:Simulation;Action & Adventure\n19:Simulation;Education\n20:Sports\n21:Strategy\n22:Trivia\n23:Word"
      }
     },
     "6180eda0014a4ecca2a9495ad923669d": {
      "model_module": "bqplot",
      "model_module_version": "^0.4.5",
      "model_name": "OrdinalScaleModel",
      "state": {
       "domain": []
      }
     },
     "65ccfa8c1e5e4aedb4841536e767c7cb": {
      "model_module": "bqplot",
      "model_module_version": "^0.4.5",
      "model_name": "LinearScaleModel",
      "state": {
       "stabilized": false
      }
     },
     "661b87a32b0141baa7479be195b2afb3": {
      "model_module": "bqplot",
      "model_module_version": "^0.4.5",
      "model_name": "FigureModel",
      "state": {
       "_dom_classes": [],
       "axes": [
        "IPY_MODEL_9d219da270ee466493a5d844ac594c66",
        "IPY_MODEL_21f60a3c7b484e3c89f3abb228867bb4",
        "IPY_MODEL_1266ad3188c24b0cb8f1b18820bc6bbf",
        "IPY_MODEL_84e68766f9b049cb91b5e515c0d6cd8c",
        "IPY_MODEL_8f1cfeea301340cbb27bf7736714f886",
        "IPY_MODEL_597c09b2c1b649619d784fa23265f172",
        "IPY_MODEL_4d487b685027481ea1e8811e92070dcc",
        "IPY_MODEL_af2993447f1d4b1cb7fcd2fccff0b3bd"
       ],
       "layout": "IPY_MODEL_4c8000011fc04d58bef8353313232111",
       "marks": [
        "IPY_MODEL_b5249028f3594421a484a07e9ca4529c",
        "IPY_MODEL_f938cd609a1144fda859490afede6994",
        "IPY_MODEL_51e46192012f4fcc8748b34c55332e16",
        "IPY_MODEL_bb4f7f30d4bb4efa8256a5979654e2a7"
       ],
       "scale_x": "IPY_MODEL_9b87c1b83f9642529ffec2af03c118a2",
       "scale_y": "IPY_MODEL_6d2a8f776b2c41efbcce93a55ca98b7f"
      }
     },
     "66a4832d5a424fcfab3cb094e539aaee": {
      "model_module": "@jupyter-widgets/base",
      "model_module_version": "1.0.0",
      "model_name": "LayoutModel",
      "state": {
       "min_width": "125px"
      }
     },
     "66ef2811329f4a43bafe2582dab430c3": {
      "model_module": "bqplot",
      "model_module_version": "^0.4.5",
      "model_name": "AxisModel",
      "state": {
       "label": "Ratings from 4.0 (0) to 5.0 (10)",
       "orientation": "vertical",
       "scale": "IPY_MODEL_9c373d1456b444a4b98fb90acac8101b",
       "side": "left",
       "tick_values": {
        "type": null,
        "values": null
       }
      }
     },
     "6787126c53d442b9a16c64460803786e": {
      "model_module": "@jupyter-widgets/base",
      "model_module_version": "1.0.0",
      "model_name": "LayoutModel",
      "state": {}
     },
     "6a0d7fb98e9743ecb0952ea8aa29e260": {
      "model_module": "bqplot",
      "model_module_version": "^0.4.5",
      "model_name": "LinearScaleModel",
      "state": {
       "stabilized": false
      }
     },
     "6d2a8f776b2c41efbcce93a55ca98b7f": {
      "model_module": "bqplot",
      "model_module_version": "^0.4.5",
      "model_name": "LinearScaleModel",
      "state": {
       "allow_padding": false,
       "max": 1,
       "min": 0,
       "stabilized": false
      }
     },
     "799a80848311444eb2aa01d9d122e642": {
      "model_module": "@jupyter-widgets/base",
      "model_module_version": "1.0.0",
      "model_name": "LayoutModel",
      "state": {}
     },
     "7b44cd23de55484f8e963356e7a8388f": {
      "model_module": "bqplot",
      "model_module_version": "^0.4.5",
      "model_name": "OrdinalScaleModel",
      "state": {
       "domain": []
      }
     },
     "812e89a4ba6c4b858959a23338a68108": {
      "model_module": "bqplot",
      "model_module_version": "^0.4.5",
      "model_name": "AxisModel",
      "state": {
       "label": "Game category genres",
       "scale": "IPY_MODEL_6000ab1173dc4ca698877fbcad8b7395",
       "side": "bottom",
       "tick_values": {
        "type": null,
        "values": null
       }
      }
     },
     "84e68766f9b049cb91b5e515c0d6cd8c": {
      "model_module": "bqplot",
      "model_module_version": "^0.4.5",
      "model_name": "AxisModel",
      "state": {
       "orientation": "vertical",
       "scale": "IPY_MODEL_65ccfa8c1e5e4aedb4841536e767c7cb",
       "side": "left",
       "tick_values": {
        "type": null,
        "values": null
       }
      }
     },
     "85823596ee3840f8b31aeb27bca9d8c0": {
      "model_module": "bqplot",
      "model_module_version": "^0.4.5",
      "model_name": "LinearScaleModel",
      "state": {
       "allow_padding": false,
       "max": 1,
       "min": 0,
       "stabilized": false
      }
     },
     "8882030262db451d9f819a6cd4a16701": {
      "model_module": "bqplot",
      "model_module_version": "^0.4.5",
      "model_name": "LinearScaleModel",
      "state": {
       "allow_padding": false,
       "max": 1,
       "min": 0,
       "stabilized": false
      }
     },
     "88cb1b6bf8cc4ac6968c301670774b09": {
      "model_module": "bqplot",
      "model_module_version": "^0.4.5",
      "model_name": "FigureModel",
      "state": {
       "_dom_classes": [],
       "axes": [
        "IPY_MODEL_b8c9b2c7b05b49c9953490475aecd763",
        "IPY_MODEL_32280b585af34112921250d818326f21"
       ],
       "layout": "IPY_MODEL_5f7ca136e4c24115a3b8394d42064048",
       "marks": [
        "IPY_MODEL_f938cd609a1144fda859490afede6994"
       ],
       "scale_x": "IPY_MODEL_2cf546412d5a471789b3469b5be06bb9",
       "scale_y": "IPY_MODEL_f56795d4aed74026aea80fda009f2e9a",
       "title": "Game apps types (free or paid)"
      }
     },
     "8de96f2a9b6c4f1b9aeefdf93b588650": {
      "model_module": "bqplot",
      "model_module_version": "^0.4.5",
      "model_name": "LinearScaleModel",
      "state": {
       "stabilized": false
      }
     },
     "8e95751d3f54459cba7c1bcf151020ce": {
      "model_module": "bqplot",
      "model_module_version": "^0.4.5",
      "model_name": "FigureModel",
      "state": {
       "_dom_classes": [],
       "axes": [
        "IPY_MODEL_c747fc11655e49af9cb414c93b8624cc",
        "IPY_MODEL_66ef2811329f4a43bafe2582dab430c3",
        "IPY_MODEL_99ecdae1f517482c8ea308db00b7fd31"
       ],
       "layout": "IPY_MODEL_1f28bb7981a24f75a42db17053dece23",
       "marks": [
        "IPY_MODEL_f43d6bb43e624e3c9be2cd7b7e9e2e91"
       ],
       "scale_x": "IPY_MODEL_9e46518cd9554c34a3debe15f0db3236",
       "scale_y": "IPY_MODEL_f21fc6835fb143e585c785ad0fafbae4",
       "title": "Total number of game apps for a particular rating and genre"
      }
     },
     "8f1cfeea301340cbb27bf7736714f886": {
      "model_module": "bqplot",
      "model_module_version": "^0.4.5",
      "model_name": "AxisModel",
      "state": {
       "scale": "IPY_MODEL_b53a4fc5cc9145509e331c3aac3d21aa",
       "side": "bottom",
       "tick_values": {
        "type": null,
        "values": null
       }
      }
     },
     "915b90238e3b4e72951496155a70c0af": {
      "model_module": "bqplot",
      "model_module_version": "^0.4.5",
      "model_name": "OrdinalScaleModel",
      "state": {
       "domain": []
      }
     },
     "92fdb2b171584ee9b3bcf6a9ce29a587": {
      "model_module": "bqplot",
      "model_module_version": "^0.4.5",
      "model_name": "FigureModel",
      "state": {
       "_dom_classes": [],
       "axes": [
        "IPY_MODEL_b61895b9359d4b13b4220d3e19058fd6",
        "IPY_MODEL_0b07036b7644437aa2d9c2b07108b5c1"
       ],
       "layout": "IPY_MODEL_66a4832d5a424fcfab3cb094e539aaee",
       "marks": [
        "IPY_MODEL_bb4f7f30d4bb4efa8256a5979654e2a7"
       ],
       "scale_x": "IPY_MODEL_3f2fa9b71f5e42a088ae96bb0e60e6cc",
       "scale_y": "IPY_MODEL_23f1219b14c24b988b015a36d13643fd",
       "title": "Game apps types (free or paid)"
      }
     },
     "99ecdae1f517482c8ea308db00b7fd31": {
      "model_module": "bqplot",
      "model_module_version": "^0.4.5",
      "model_name": "AxisModel",
      "state": {
       "label": "Game category genres",
       "scale": "IPY_MODEL_7b44cd23de55484f8e963356e7a8388f",
       "side": "bottom",
       "tick_values": {
        "type": null,
        "values": null
       }
      }
     },
     "9b87c1b83f9642529ffec2af03c118a2": {
      "model_module": "bqplot",
      "model_module_version": "^0.4.5",
      "model_name": "LinearScaleModel",
      "state": {
       "allow_padding": false,
       "max": 1,
       "min": 0,
       "stabilized": false
      }
     },
     "9c373d1456b444a4b98fb90acac8101b": {
      "model_module": "bqplot",
      "model_module_version": "^0.4.5",
      "model_name": "OrdinalScaleModel",
      "state": {
       "domain": []
      }
     },
     "9d219da270ee466493a5d844ac594c66": {
      "model_module": "bqplot",
      "model_module_version": "^0.4.5",
      "model_name": "AxisModel",
      "state": {
       "scale": "IPY_MODEL_25e63b9a714d4179840a060a85705062",
       "side": "bottom",
       "tick_values": {
        "type": null,
        "values": null
       }
      }
     },
     "9e46518cd9554c34a3debe15f0db3236": {
      "model_module": "bqplot",
      "model_module_version": "^0.4.5",
      "model_name": "LinearScaleModel",
      "state": {
       "allow_padding": false,
       "max": 1,
       "min": 0,
       "stabilized": false
      }
     },
     "af2993447f1d4b1cb7fcd2fccff0b3bd": {
      "model_module": "bqplot",
      "model_module_version": "^0.4.5",
      "model_name": "AxisModel",
      "state": {
       "orientation": "vertical",
       "scale": "IPY_MODEL_6a0d7fb98e9743ecb0952ea8aa29e260",
       "side": "left",
       "tick_values": {
        "type": null,
        "values": null
       }
      }
     },
     "afb684c0dbdd4853bb2c03d4ffccb98d": {
      "model_module": "bqplot",
      "model_module_version": "^0.4.5",
      "model_name": "AxisModel",
      "state": {
       "label": "Content rating",
       "scale": "IPY_MODEL_25e63b9a714d4179840a060a85705062",
       "side": "bottom",
       "tick_values": {
        "type": null,
        "values": null
       }
      }
     },
     "b5249028f3594421a484a07e9ca4529c": {
      "model_module": "bqplot",
      "model_module_version": "^0.4.5",
      "model_name": "BarsModel",
      "state": {
       "color": {
        "type": null,
        "values": null
       },
       "colors": [
        "steelblue"
       ],
       "display_legend": false,
       "labels": [
        "Teen"
       ],
       "scales": {
        "x": "IPY_MODEL_25e63b9a714d4179840a060a85705062",
        "y": "IPY_MODEL_5ba645429c4149e9b686ea3a11c8a17d"
       },
       "selected": [],
       "x": {
        "type": "<U4",
        "values": [
         "Teen"
        ]
       },
       "y": {
        "type": "float",
        "values": [
         4
        ]
       }
      }
     },
     "b53a4fc5cc9145509e331c3aac3d21aa": {
      "model_module": "bqplot",
      "model_module_version": "^0.4.5",
      "model_name": "OrdinalScaleModel",
      "state": {
       "domain": []
      }
     },
     "b61895b9359d4b13b4220d3e19058fd6": {
      "model_module": "bqplot",
      "model_module_version": "^0.4.5",
      "model_name": "AxisModel",
      "state": {
       "label": "Number of apps",
       "orientation": "vertical",
       "scale": "IPY_MODEL_6a0d7fb98e9743ecb0952ea8aa29e260",
       "side": "left",
       "tick_values": {
        "type": null,
        "values": null
       }
      }
     },
     "b8c9b2c7b05b49c9953490475aecd763": {
      "model_module": "bqplot",
      "model_module_version": "^0.4.5",
      "model_name": "AxisModel",
      "state": {
       "label": "Number of apps",
       "orientation": "vertical",
       "scale": "IPY_MODEL_65ccfa8c1e5e4aedb4841536e767c7cb",
       "side": "left",
       "tick_values": {
        "type": null,
        "values": null
       }
      }
     },
     "bb4f7f30d4bb4efa8256a5979654e2a7": {
      "model_module": "bqplot",
      "model_module_version": "^0.4.5",
      "model_name": "BarsModel",
      "state": {
       "color": {
        "type": null,
        "values": null
       },
       "colors": [
        "steelblue"
       ],
       "display_legend": false,
       "labels": [
        "Free",
        "Paid"
       ],
       "scales": {
        "x": "IPY_MODEL_352ee22dea4f468180698bd831911621",
        "y": "IPY_MODEL_6a0d7fb98e9743ecb0952ea8aa29e260"
       },
       "selected": [],
       "x": {
        "type": "<U4",
        "values": [
         "Free",
         "Paid"
        ]
       },
       "y": {
        "type": "float",
        "values": [
         23,
         3
        ]
       }
      }
     },
     "c747fc11655e49af9cb414c93b8624cc": {
      "model_module": "bqplot",
      "model_module_version": "^0.4.5",
      "model_name": "ColorAxisModel",
      "state": {
       "orientation": "vertical",
       "scale": "IPY_MODEL_0aad60040a8a4d8d8a3dab0a7c44895c",
       "side": "right",
       "tick_values": {
        "type": null,
        "values": null
       }
      }
     },
     "c9cab5e72ff245d38f3d7ce6be89c869": {
      "model_module": "bqplot",
      "model_module_version": "^0.4.5",
      "model_name": "FigureModel",
      "state": {
       "_dom_classes": [],
       "axes": [
        "IPY_MODEL_223aec8eeec34468bd105b895345e927",
        "IPY_MODEL_afb684c0dbdd4853bb2c03d4ffccb98d"
       ],
       "layout": "IPY_MODEL_2d53d88d7b314903ac721f8fed5cd2d3",
       "marks": [
        "IPY_MODEL_b5249028f3594421a484a07e9ca4529c"
       ],
       "scale_x": "IPY_MODEL_fe3e5d7d508641bb95cf29508f4ecbf2",
       "scale_y": "IPY_MODEL_8882030262db451d9f819a6cd4a16701",
       "title": "Game apps content ratings"
      }
     },
     "d2c10b9d033c49e49d3a1e586ab5eddb": {
      "model_module": "bqplot",
      "model_module_version": "^0.4.5",
      "model_name": "AxisModel",
      "state": {
       "label": "Ratings from 4.0 (0) to 5.0 (10)",
       "orientation": "vertical",
       "scale": "IPY_MODEL_6180eda0014a4ecca2a9495ad923669d",
       "side": "left",
       "tick_values": {
        "type": null,
        "values": null
       }
      }
     },
     "d314fb4b125842ee8f01fb202b0fc9f7": {
      "model_module": "@jupyter-widgets/base",
      "model_module_version": "1.0.0",
      "model_name": "LayoutModel",
      "state": {}
     },
     "e12bee7676c14d6eb5345127f2b88118": {
      "model_module": "@jupyter-widgets/controls",
      "model_module_version": "1.2.0",
      "model_name": "HBoxModel",
      "state": {
       "children": [
        "IPY_MODEL_8e95751d3f54459cba7c1bcf151020ce",
        "IPY_MODEL_ebb0d73c2bc84488ad571b7158825329"
       ],
       "layout": "IPY_MODEL_f697bf73d9054286bf7549f134f7411e"
      }
     },
     "e46870d653bb4a889a473fda63a5cc08": {
      "model_module": "@jupyter-widgets/controls",
      "model_module_version": "1.2.0",
      "model_name": "HBoxModel",
      "state": {
       "children": [
        "IPY_MODEL_0b7ec1ed4f2341d89bc3086994630aa0",
        "IPY_MODEL_92fdb2b171584ee9b3bcf6a9ce29a587"
       ],
       "layout": "IPY_MODEL_605cb7fed46342398cd119608a5c07ef"
      }
     },
     "e7ccee1c641a4d2daa6e770bf3358a62": {
      "model_module": "@jupyter-widgets/controls",
      "model_module_version": "1.2.0",
      "model_name": "VBoxModel",
      "state": {
       "children": [
        "IPY_MODEL_f24164a89d314717b8be5a8a6e7f5e76",
        "IPY_MODEL_e12bee7676c14d6eb5345127f2b88118",
        "IPY_MODEL_1f2427ddf1ba45baab1a6344a8755184"
       ],
       "layout": "IPY_MODEL_d314fb4b125842ee8f01fb202b0fc9f7"
      }
     },
     "ebb0d73c2bc84488ad571b7158825329": {
      "model_module": "@jupyter-widgets/controls",
      "model_module_version": "1.2.0",
      "model_name": "TextareaModel",
      "state": {
       "layout": "IPY_MODEL_010017772747412888977e1e5dc136f5",
       "style": "IPY_MODEL_48ffb458d8914bfeb126ff667a5b6eba",
       "value": "Game category genres:\n0:Action\n1:Action;Action & Adventure\n2:Adventure\n3:Adventure;Action & Adventure\n4:Arcade\n5:Board\n6:Card\n7:Casino\n8:Casual\n9:Casual;Action & Adventure\n10:Casual;Brain Games\n11:Casual;Creativity\n12:Casual;Pretend Play\n13:Music\n14:Puzzle\n15:Racing\n16:Role Playing\n17:Simulation\n18:Simulation;Action & Adventure\n19:Simulation;Education\n20:Sports\n21:Strategy\n22:Trivia\n23:Word"
      }
     },
     "ed27306022e44b8881d3b701a39d5bde": {
      "model_module": "@jupyter-widgets/controls",
      "model_module_version": "1.2.0",
      "model_name": "DescriptionStyleModel",
      "state": {
       "description_width": ""
      }
     },
     "f21fc6835fb143e585c785ad0fafbae4": {
      "model_module": "bqplot",
      "model_module_version": "^0.4.5",
      "model_name": "LinearScaleModel",
      "state": {
       "allow_padding": false,
       "max": 1,
       "min": 0,
       "stabilized": false
      }
     },
     "f24164a89d314717b8be5a8a6e7f5e76": {
      "model_module": "@jupyter-widgets/controls",
      "model_module_version": "1.2.0",
      "model_name": "LabelModel",
      "state": {
       "layout": "IPY_MODEL_799a80848311444eb2aa01d9d122e642",
       "style": "IPY_MODEL_19e4b92644c74b7cbdd2b5f53fe5eb7f",
       "value": "Total number of games = 4.0"
      }
     },
     "f43d6bb43e624e3c9be2cd7b7e9e2e91": {
      "model_module": "bqplot",
      "model_module_version": "^0.4.5",
      "model_name": "GridHeatMapModel",
      "state": {
       "anchor_style": {
        "fill": "blue"
       },
       "color": {
        "type": "float",
        "values": [
         [
          20,
          null,
          6,
          null,
          7,
          2,
          5,
          2,
          null,
          null,
          null,
          null,
          null,
          2,
          null,
          7,
          null,
          null,
          null,
          null,
          null,
          3,
          null,
          1
         ],
         [
          27,
          null,
          9,
          null,
          13,
          4,
          5,
          6,
          null,
          null,
          null,
          1,
          null,
          null,
          null,
          3,
          null,
          null,
          null,
          null,
          null,
          1,
          2,
          null
         ],
         [
          39,
          null,
          4,
          null,
          19,
          2,
          3,
          2,
          1,
          null,
          null,
          null,
          1,
          2,
          2,
          17,
          3,
          null,
          null,
          null,
          null,
          2,
          5,
          4
         ],
         [
          44,
          2,
          10,
          null,
          26,
          6,
          4,
          4,
          2,
          null,
          null,
          null,
          null,
          2,
          3,
          12,
          4,
          4,
          null,
          null,
          null,
          1,
          1,
          4
         ],
         [
          45,
          null,
          13,
          null,
          21,
          3,
          3,
          6,
          7,
          null,
          1,
          null,
          null,
          1,
          2,
          8,
          2,
          null,
          null,
          null,
          1,
          4,
          3,
          2
         ],
         [
          38,
          1,
          9,
          1,
          22,
          5,
          6,
          7,
          6,
          1,
          null,
          null,
          null,
          2,
          4,
          6,
          3,
          1,
          null,
          1,
          2,
          1,
          6,
          2
         ],
         [
          27,
          null,
          4,
          null,
          13,
          4,
          4,
          2,
          7,
          null,
          null,
          null,
          null,
          2,
          6,
          5,
          1,
          3,
          null,
          null,
          3,
          5,
          1,
          1
         ],
         [
          9,
          null,
          1,
          null,
          9,
          5,
          4,
          4,
          null,
          null,
          null,
          null,
          null,
          2,
          6,
          1,
          2,
          null,
          1,
          null,
          null,
          null,
          1,
          3
         ],
         [
          null,
          null,
          null,
          null,
          4,
          2,
          null,
          null,
          null,
          null,
          null,
          null,
          null,
          null,
          null,
          null,
          null,
          1,
          null,
          null,
          null,
          null,
          1,
          1
         ],
         [
          null,
          null,
          null,
          null,
          null,
          null,
          1,
          null,
          null,
          null,
          null,
          null,
          null,
          null,
          1,
          null,
          null,
          null,
          null,
          null,
          null,
          null,
          null,
          1
         ],
         [
          1,
          null,
          null,
          null,
          8,
          null,
          null,
          null,
          null,
          null,
          null,
          null,
          null,
          null,
          null,
          2,
          null,
          null,
          null,
          null,
          null,
          null,
          1,
          null
         ]
        ]
       },
       "column": {
        "type": "float",
        "values": [
         0,
         1,
         2,
         3,
         4,
         5,
         6,
         7,
         8,
         9,
         10,
         11,
         12,
         13,
         14,
         15,
         16,
         17,
         18,
         19,
         20,
         21,
         22,
         23
        ]
       },
       "display_legend": false,
       "interactions": {
        "click": "select"
       },
       "row": {
        "type": "float",
        "values": [
         0,
         1,
         2,
         3,
         4,
         5,
         6,
         7,
         8,
         9,
         10
        ]
       },
       "scales": {
        "color": "IPY_MODEL_0aad60040a8a4d8d8a3dab0a7c44895c",
        "column": "IPY_MODEL_7b44cd23de55484f8e963356e7a8388f",
        "row": "IPY_MODEL_9c373d1456b444a4b98fb90acac8101b"
       },
       "selected": [
        [
         3,
         7
        ]
       ],
       "selected_style": {
        "opacity": 1
       },
       "unselected_style": {
        "opacity": 0.8
       }
      }
     },
     "f56795d4aed74026aea80fda009f2e9a": {
      "model_module": "bqplot",
      "model_module_version": "^0.4.5",
      "model_name": "LinearScaleModel",
      "state": {
       "allow_padding": false,
       "max": 1,
       "min": 0,
       "stabilized": false
      }
     },
     "f697bf73d9054286bf7549f134f7411e": {
      "model_module": "@jupyter-widgets/base",
      "model_module_version": "1.0.0",
      "model_name": "LayoutModel",
      "state": {}
     },
     "f938cd609a1144fda859490afede6994": {
      "model_module": "bqplot",
      "model_module_version": "^0.4.5",
      "model_name": "BarsModel",
      "state": {
       "color": {
        "type": null,
        "values": null
       },
       "colors": [
        "steelblue"
       ],
       "display_legend": false,
       "labels": [
        "Free"
       ],
       "scales": {
        "x": "IPY_MODEL_915b90238e3b4e72951496155a70c0af",
        "y": "IPY_MODEL_65ccfa8c1e5e4aedb4841536e767c7cb"
       },
       "selected": [],
       "x": {
        "type": "<U4",
        "values": [
         "Free"
        ]
       },
       "y": {
        "type": "float",
        "values": [
         4
        ]
       }
      }
     },
     "fae65477030b4a99b6facd49efed3fa6": {
      "model_module": "@jupyter-widgets/controls",
      "model_module_version": "1.2.0",
      "model_name": "LabelModel",
      "state": {
       "layout": "IPY_MODEL_6787126c53d442b9a16c64460803786e",
       "style": "IPY_MODEL_ed27306022e44b8881d3b701a39d5bde",
       "value": "Total number of games = 26.0"
      }
     },
     "fe3e5d7d508641bb95cf29508f4ecbf2": {
      "model_module": "bqplot",
      "model_module_version": "^0.4.5",
      "model_name": "LinearScaleModel",
      "state": {
       "allow_padding": false,
       "max": 1,
       "min": 0,
       "stabilized": false
      }
     }
    },
    "version_major": 2,
    "version_minor": 0
   }
  }
 },
 "nbformat": 4,
 "nbformat_minor": 2
}
